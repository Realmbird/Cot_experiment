{
 "cells": [
  {
   "cell_type": "code",
   "execution_count": null,
   "id": "983ea3d4",
   "metadata": {},
   "outputs": [],
   "source": [
    "import pandas as pd\n",
    "import json\n",
    "\n",
    "file_path = \"math-rollouts/data/default-00000-of-00183.parquet\"\n",
    "df = pd.read_parquet(file_path)\n",
    "\n",
    "# Iterate through each row and print as JSON\n",
    "for _, row in df.iterrows():\n",
    "    print(json.dumps(row.to_dict(), indent=2))"
   ]
  }
 ],
 "metadata": {
  "kernelspec": {
   "display_name": "base",
   "language": "python",
   "name": "python3"
  },
  "language_info": {
   "codemirror_mode": {
    "name": "ipython",
    "version": 3
   },
   "file_extension": ".py",
   "mimetype": "text/x-python",
   "name": "python",
   "nbconvert_exporter": "python",
   "pygments_lexer": "ipython3",
   "version": "3.12.4"
  }
 },
 "nbformat": 4,
 "nbformat_minor": 5
}
