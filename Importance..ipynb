{
 "cells": [
  {
   "cell_type": "code",
   "execution_count": 1,
   "id": "e02003ac",
   "metadata": {},
   "outputs": [],
   "source": [
    "reciever_heads = [(4, 12),\n",
    " (1, 20),\n",
    " (1, 18),\n",
    " (3, 18),\n",
    " (4, 14),\n",
    " (25, 20),\n",
    " (25, 22),\n",
    " (3, 17),\n",
    " (29, 24),\n",
    " (1, 13),\n",
    " (29, 25),\n",
    " (29, 27),\n",
    " (29, 26),\n",
    " (24, 9),\n",
    " (1, 26),\n",
    " (29, 15),\n",
    " (24, 11),\n",
    " (3, 4),\n",
    " (7, 5),\n",
    " (1, 16)]"
   ]
  },
  {
   "cell_type": "code",
   "execution_count": null,
   "id": "3c6bf741",
   "metadata": {},
   "outputs": [],
   "source": [
    "tokenizer(text)"
   ]
  },
  {
   "cell_type": "code",
   "execution_count": null,
   "id": "21e6d815",
   "metadata": {},
   "outputs": [],
   "source": []
  }
 ],
 "metadata": {
  "kernelspec": {
   "display_name": "base",
   "language": "python",
   "name": "python3"
  },
  "language_info": {
   "codemirror_mode": {
    "name": "ipython",
    "version": 3
   },
   "file_extension": ".py",
   "mimetype": "text/x-python",
   "name": "python",
   "nbconvert_exporter": "python",
   "pygments_lexer": "ipython3",
   "version": "3.12.4"
  }
 },
 "nbformat": 4,
 "nbformat_minor": 5
}
